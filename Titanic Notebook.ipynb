{
 "cells": [
  {
   "cell_type": "code",
   "execution_count": 1,
   "metadata": {},
   "outputs": [],
   "source": [
    "import pandas as pd"
   ]
  },
  {
   "cell_type": "code",
   "execution_count": 2,
   "metadata": {},
   "outputs": [],
   "source": [
    "import numpy as np"
   ]
  },
  {
   "cell_type": "code",
   "execution_count": 3,
   "metadata": {},
   "outputs": [],
   "source": [
    "data = pd.read_csv(r'C:\\Users\\Meireles\\Desktop\\rodrigo\\train.csv')"
   ]
  },
  {
   "cell_type": "code",
   "execution_count": 4,
   "metadata": {
    "scrolled": false
   },
   "outputs": [
    {
     "data": {
      "text/html": [
       "<div>\n",
       "<style scoped>\n",
       "    .dataframe tbody tr th:only-of-type {\n",
       "        vertical-align: middle;\n",
       "    }\n",
       "\n",
       "    .dataframe tbody tr th {\n",
       "        vertical-align: top;\n",
       "    }\n",
       "\n",
       "    .dataframe thead th {\n",
       "        text-align: right;\n",
       "    }\n",
       "</style>\n",
       "<table border=\"1\" class=\"dataframe\">\n",
       "  <thead>\n",
       "    <tr style=\"text-align: right;\">\n",
       "      <th></th>\n",
       "      <th>PassengerId</th>\n",
       "      <th>Survived</th>\n",
       "      <th>Pclass</th>\n",
       "      <th>Name</th>\n",
       "      <th>Sex</th>\n",
       "      <th>Age</th>\n",
       "      <th>SibSp</th>\n",
       "      <th>Parch</th>\n",
       "      <th>Ticket</th>\n",
       "      <th>Fare</th>\n",
       "      <th>Cabin</th>\n",
       "      <th>Embarked</th>\n",
       "    </tr>\n",
       "  </thead>\n",
       "  <tbody>\n",
       "    <tr>\n",
       "      <td>0</td>\n",
       "      <td>1</td>\n",
       "      <td>0</td>\n",
       "      <td>3</td>\n",
       "      <td>Braund, Mr. Owen Harris</td>\n",
       "      <td>male</td>\n",
       "      <td>22.0</td>\n",
       "      <td>1</td>\n",
       "      <td>0</td>\n",
       "      <td>A/5 21171</td>\n",
       "      <td>7.2500</td>\n",
       "      <td>NaN</td>\n",
       "      <td>S</td>\n",
       "    </tr>\n",
       "    <tr>\n",
       "      <td>1</td>\n",
       "      <td>2</td>\n",
       "      <td>1</td>\n",
       "      <td>1</td>\n",
       "      <td>Cumings, Mrs. John Bradley (Florence Briggs Th...</td>\n",
       "      <td>female</td>\n",
       "      <td>38.0</td>\n",
       "      <td>1</td>\n",
       "      <td>0</td>\n",
       "      <td>PC 17599</td>\n",
       "      <td>71.2833</td>\n",
       "      <td>C85</td>\n",
       "      <td>C</td>\n",
       "    </tr>\n",
       "    <tr>\n",
       "      <td>2</td>\n",
       "      <td>3</td>\n",
       "      <td>1</td>\n",
       "      <td>3</td>\n",
       "      <td>Heikkinen, Miss. Laina</td>\n",
       "      <td>female</td>\n",
       "      <td>26.0</td>\n",
       "      <td>0</td>\n",
       "      <td>0</td>\n",
       "      <td>STON/O2. 3101282</td>\n",
       "      <td>7.9250</td>\n",
       "      <td>NaN</td>\n",
       "      <td>S</td>\n",
       "    </tr>\n",
       "    <tr>\n",
       "      <td>3</td>\n",
       "      <td>4</td>\n",
       "      <td>1</td>\n",
       "      <td>1</td>\n",
       "      <td>Futrelle, Mrs. Jacques Heath (Lily May Peel)</td>\n",
       "      <td>female</td>\n",
       "      <td>35.0</td>\n",
       "      <td>1</td>\n",
       "      <td>0</td>\n",
       "      <td>113803</td>\n",
       "      <td>53.1000</td>\n",
       "      <td>C123</td>\n",
       "      <td>S</td>\n",
       "    </tr>\n",
       "    <tr>\n",
       "      <td>4</td>\n",
       "      <td>5</td>\n",
       "      <td>0</td>\n",
       "      <td>3</td>\n",
       "      <td>Allen, Mr. William Henry</td>\n",
       "      <td>male</td>\n",
       "      <td>35.0</td>\n",
       "      <td>0</td>\n",
       "      <td>0</td>\n",
       "      <td>373450</td>\n",
       "      <td>8.0500</td>\n",
       "      <td>NaN</td>\n",
       "      <td>S</td>\n",
       "    </tr>\n",
       "    <tr>\n",
       "      <td>5</td>\n",
       "      <td>6</td>\n",
       "      <td>0</td>\n",
       "      <td>3</td>\n",
       "      <td>Moran, Mr. James</td>\n",
       "      <td>male</td>\n",
       "      <td>NaN</td>\n",
       "      <td>0</td>\n",
       "      <td>0</td>\n",
       "      <td>330877</td>\n",
       "      <td>8.4583</td>\n",
       "      <td>NaN</td>\n",
       "      <td>Q</td>\n",
       "    </tr>\n",
       "    <tr>\n",
       "      <td>6</td>\n",
       "      <td>7</td>\n",
       "      <td>0</td>\n",
       "      <td>1</td>\n",
       "      <td>McCarthy, Mr. Timothy J</td>\n",
       "      <td>male</td>\n",
       "      <td>54.0</td>\n",
       "      <td>0</td>\n",
       "      <td>0</td>\n",
       "      <td>17463</td>\n",
       "      <td>51.8625</td>\n",
       "      <td>E46</td>\n",
       "      <td>S</td>\n",
       "    </tr>\n",
       "    <tr>\n",
       "      <td>7</td>\n",
       "      <td>8</td>\n",
       "      <td>0</td>\n",
       "      <td>3</td>\n",
       "      <td>Palsson, Master. Gosta Leonard</td>\n",
       "      <td>male</td>\n",
       "      <td>2.0</td>\n",
       "      <td>3</td>\n",
       "      <td>1</td>\n",
       "      <td>349909</td>\n",
       "      <td>21.0750</td>\n",
       "      <td>NaN</td>\n",
       "      <td>S</td>\n",
       "    </tr>\n",
       "    <tr>\n",
       "      <td>8</td>\n",
       "      <td>9</td>\n",
       "      <td>1</td>\n",
       "      <td>3</td>\n",
       "      <td>Johnson, Mrs. Oscar W (Elisabeth Vilhelmina Berg)</td>\n",
       "      <td>female</td>\n",
       "      <td>27.0</td>\n",
       "      <td>0</td>\n",
       "      <td>2</td>\n",
       "      <td>347742</td>\n",
       "      <td>11.1333</td>\n",
       "      <td>NaN</td>\n",
       "      <td>S</td>\n",
       "    </tr>\n",
       "    <tr>\n",
       "      <td>9</td>\n",
       "      <td>10</td>\n",
       "      <td>1</td>\n",
       "      <td>2</td>\n",
       "      <td>Nasser, Mrs. Nicholas (Adele Achem)</td>\n",
       "      <td>female</td>\n",
       "      <td>14.0</td>\n",
       "      <td>1</td>\n",
       "      <td>0</td>\n",
       "      <td>237736</td>\n",
       "      <td>30.0708</td>\n",
       "      <td>NaN</td>\n",
       "      <td>C</td>\n",
       "    </tr>\n",
       "  </tbody>\n",
       "</table>\n",
       "</div>"
      ],
      "text/plain": [
       "   PassengerId  Survived  Pclass  \\\n",
       "0            1         0       3   \n",
       "1            2         1       1   \n",
       "2            3         1       3   \n",
       "3            4         1       1   \n",
       "4            5         0       3   \n",
       "5            6         0       3   \n",
       "6            7         0       1   \n",
       "7            8         0       3   \n",
       "8            9         1       3   \n",
       "9           10         1       2   \n",
       "\n",
       "                                                Name     Sex   Age  SibSp  \\\n",
       "0                            Braund, Mr. Owen Harris    male  22.0      1   \n",
       "1  Cumings, Mrs. John Bradley (Florence Briggs Th...  female  38.0      1   \n",
       "2                             Heikkinen, Miss. Laina  female  26.0      0   \n",
       "3       Futrelle, Mrs. Jacques Heath (Lily May Peel)  female  35.0      1   \n",
       "4                           Allen, Mr. William Henry    male  35.0      0   \n",
       "5                                   Moran, Mr. James    male   NaN      0   \n",
       "6                            McCarthy, Mr. Timothy J    male  54.0      0   \n",
       "7                     Palsson, Master. Gosta Leonard    male   2.0      3   \n",
       "8  Johnson, Mrs. Oscar W (Elisabeth Vilhelmina Berg)  female  27.0      0   \n",
       "9                Nasser, Mrs. Nicholas (Adele Achem)  female  14.0      1   \n",
       "\n",
       "   Parch            Ticket     Fare Cabin Embarked  \n",
       "0      0         A/5 21171   7.2500   NaN        S  \n",
       "1      0          PC 17599  71.2833   C85        C  \n",
       "2      0  STON/O2. 3101282   7.9250   NaN        S  \n",
       "3      0            113803  53.1000  C123        S  \n",
       "4      0            373450   8.0500   NaN        S  \n",
       "5      0            330877   8.4583   NaN        Q  \n",
       "6      0             17463  51.8625   E46        S  \n",
       "7      1            349909  21.0750   NaN        S  \n",
       "8      2            347742  11.1333   NaN        S  \n",
       "9      0            237736  30.0708   NaN        C  "
      ]
     },
     "execution_count": 4,
     "metadata": {},
     "output_type": "execute_result"
    }
   ],
   "source": [
    "data.head(10)"
   ]
  },
  {
   "cell_type": "markdown",
   "metadata": {},
   "source": [
    "# Encoding das variáveis nominais"
   ]
  },
  {
   "cell_type": "markdown",
   "metadata": {},
   "source": [
    "Encoding do embarque, somente duas entradas nulas de passageiras que embarcaram juntas, arbitrariamente codificadas como 1 (S)\n",
    "\n"
   ]
  },
  {
   "cell_type": "code",
   "execution_count": 5,
   "metadata": {},
   "outputs": [],
   "source": [
    "embark_dict = {'S': 1, 'C':2, 'Q':3}\n",
    "embark_dict[np.NaN] = 1\n",
    "\n",
    "data['embarked_encoded'] = data['Embarked'].map(embark_dict)"
   ]
  },
  {
   "cell_type": "markdown",
   "metadata": {},
   "source": [
    "Separando as cabines pela primeira letra, valores nulos ficaram como n."
   ]
  },
  {
   "cell_type": "code",
   "execution_count": 6,
   "metadata": {},
   "outputs": [],
   "source": [
    "data['cabin_red'] = data.Cabin.str[0]"
   ]
  },
  {
   "cell_type": "markdown",
   "metadata": {},
   "source": [
    "Aqui cria-se uma coluna marcando quando a cabine não possui registro. (Ideia duvidosa mas tá aqui)"
   ]
  },
  {
   "cell_type": "code",
   "execution_count": 7,
   "metadata": {},
   "outputs": [],
   "source": [
    "data['cabin_null'] = np.where(data['Cabin'].isnull(), 1, 0)"
   ]
  },
  {
   "cell_type": "markdown",
   "metadata": {},
   "source": [
    "Encoding do sexo dos tripulantes."
   ]
  },
  {
   "cell_type": "code",
   "execution_count": 8,
   "metadata": {},
   "outputs": [],
   "source": [
    "sex_dict = {'male': 0, 'female': 1} \n",
    "data['sex_encoded'] = data['Sex'].map(sex_dict)"
   ]
  },
  {
   "cell_type": "markdown",
   "metadata": {},
   "source": [
    "Separação dos tickets em prefixo e números."
   ]
  },
  {
   "cell_type": "code",
   "execution_count": 12,
   "metadata": {},
   "outputs": [
    {
     "name": "stdout",
     "output_type": "stream",
     "text": [
      "['A/5', 'PC', 'STON/O2.', nan, nan, nan, nan, nan, nan, nan, 'PP', nan, 'A/5.', nan, nan, nan, nan, nan, nan, nan, nan, nan, nan, nan, nan, nan, nan, nan, nan, nan, 'PC', 'PC', nan, 'C.A.', 'PC', nan, nan, 'A./5.', nan, nan, nan, nan, nan, 'SC/Paris', nan, 'S.C./A.4.', nan, nan, nan, nan, nan, 'A/4.', 'PC', nan, nan, nan, 'C.A.', nan, 'C.A.', 'CA', nan, nan, nan, nan, 'PC', nan, 'C.A.', 'S.P.', nan, nan, 'C.A.', 'CA', 'S.O.C.', nan, nan, nan, nan, nan, nan, nan, nan, nan, nan, nan, 'SO/C', nan, 'W./C.', 'SOTON/OQ', nan, nan, nan, nan, 'W.E.P.', 'C.A.', nan, nan, 'PC', 'PC', nan, nan, nan, nan, nan, nan, nan, nan, nan, nan, nan, nan, nan, nan, nan, nan, nan, 'STON/O 2.', nan, nan, 'PC', nan, 'S.O.C.', 'A4.', nan, nan, nan, nan, nan, 'C', nan, nan, nan, 'SOTON/O.Q.', 'A/5.', nan, 'C.A.', 'SC/PARIS', nan, nan, nan, 'PC', nan, nan, 'STON/O2.', nan, nan, 'C.A.', nan, 'W./C.', nan, nan, 'S.O.P.', nan, 'A.5.', 'A/5.', 'Fa', 'PC', nan, 'SOTON/OQ', nan, 'CA.', nan, 'C.A.', nan, nan, nan, nan, nan, nan, 'PC', nan, nan, nan, nan, 'STON/O 2.', nan, nan, nan, 'PC', nan, nan, 'CA.', 'SC/PARIS', nan, nan, nan, nan, nan, nan, nan, nan, nan, nan, nan, nan, 'PC', 'PC', nan, nan, nan, nan, nan, 'CA.', nan, nan, 'A/5', nan, nan, nan, nan, nan, 'SOTON/O.Q.', 'F.C.C.', 'A/5', nan, nan, nan, 'STON/O2.', nan, nan, 'W/C', 'SOTON/OQ', nan, nan, nan, nan, 'PP', 'SW/PP', 'A/5', nan, nan, nan, nan, nan, nan, 'C.A.', 'W./C.', nan, 'C.A.', nan, 'SCO/W', nan, nan, 'W./C.', 'STON/O 2.', nan, nan, nan, nan, nan, nan, nan, nan, nan, 'A/5.', nan, nan, 'PC', nan, 'PC', nan, nan, nan, nan, nan, nan, 'C.A.', nan, nan, 'PC', 'PC', nan, nan, nan, 'PC', nan, nan, nan, nan, nan, 'C.A.', nan, nan, nan, 'A/5.', nan, nan, nan, nan, nan, nan, nan, nan, 'SC/Paris', nan, nan, 'PC', nan, nan, nan, 'PC', nan, nan, nan, nan, 'A/5', nan, nan, 'PC', 'P/PP', 'PC', nan, 'PC', nan, nan, 'F.C.C.', nan, nan, nan, nan, nan, 'A/5', nan, nan, nan, 'CA.', 'PC', nan, nan, nan, nan, nan, nan, 'PC', nan, 'PC', nan, nan, nan, nan, nan, nan, nan, nan, nan, nan, nan, nan, nan, 'C.A.', nan, nan, nan, nan, nan, nan, nan, nan, nan, nan, nan, nan, 'SC/PARIS', nan, 'SOTON/O.Q.', nan, 'C', nan, nan, nan, 'PC', nan, nan, nan, 'PC', nan, 'PC', 'C', nan, nan, nan, 'PC', nan, 'STON/O 2.', nan, nan, 'S.O.C.', 'CA', nan, nan, 'SC', nan, nan, nan, nan, 'PP', nan, nan, nan, nan, nan, 'STON/O 2.', nan, nan, 'STON/O2.', nan, nan, nan, nan, nan, nan, nan, nan, nan, nan, 'STON/O 2.', nan, nan, nan, nan, nan, nan, 'A/5.', nan, nan, nan, 'A/4.', nan, nan, nan, 'SOTON/O.Q.', nan, nan, 'SC/AH', 'STON/O 2.', nan, nan, 'W./C.', nan, nan, 'C.A.', 'F.C.C.', nan, nan, nan, nan, nan, nan, nan, nan, nan, 'C.A.', nan, nan, nan, 'A/5', nan, nan, nan, 'F.C.C.', nan, nan, nan, nan, nan, 'A/S', 'SOTON/O.Q.', nan, nan, nan, nan, nan, nan, 'C.A.', 'SC/AH Basle', nan, nan, nan, nan, nan, nan, 'CA', nan, 'A/5', nan, nan, nan, nan, nan, 'A.5.', 'C.A.', nan, 'SOTON/OQ', nan, 'PC', 'A/4', nan, nan, 'C.A.', nan, nan, nan, nan, nan, nan, nan, 'PC', nan, nan, 'C', nan, nan, 'SOTON/OQ', 'PC', 'PC', nan, nan, 'C.A.', nan, nan, nan, nan, nan, nan, nan, nan, nan, 'W./C.', 'PC', nan, nan, nan, nan, nan, nan, nan, 'F.C.C.', nan, 'PC', nan, nan, 'WE/P', nan, nan, nan, 'PC', nan, nan, 'SC/PARIS', nan, 'C.A.', nan, nan, nan, nan, nan, nan, nan, 'PC', nan, nan, nan, nan, nan, 'SOTON/OQ', 'SOTON/O.Q.', 'A/4', nan, nan, nan, nan, 'S.W./PP', nan, 'PC', nan, 'A/4.', nan, nan, nan, nan, 'STON/O 2.', nan, nan, nan, nan, nan, nan, nan, nan, nan, 'A./5.', 'STON/O 2.', nan, 'A/5', nan, 'SC/AH', nan, nan, nan, nan, 'PC', nan, nan, nan, nan, nan, nan, nan, nan, 'SC/Paris', 'PC', nan, 'SOTON/O.Q.', nan, nan, nan, nan, nan, 'A/5.', nan, nan, nan, nan, nan, nan, nan, nan, nan, nan, nan, nan, nan, nan, nan, nan, nan, nan, 'STON/O 2.', 'C.A.', nan, nan, nan, 'PC', nan, nan, nan, 'PC', nan, nan, 'S.O./P.P.', 'CA.', nan, nan, nan, nan, nan, 'S.O.C.', nan, nan, nan, nan, 'PC', nan, nan, nan, 'STON/O 2.', 'S.O.C.', nan, nan, 'A/5', nan, nan, 'F.C.', 'C.A.', nan, nan, nan, nan, nan, 'CA', 'PC', nan, 'PC', nan, 'CA', nan, 'SC/Paris', nan, nan, nan, nan, nan, nan, nan, nan, nan, nan, nan, nan, nan, nan, 'PC', 'PC', nan, nan, nan, nan, nan, 'PC', nan, nan, 'PC', nan, nan, nan, nan, nan, 'PC', nan, nan, nan, nan, nan, nan, nan, nan, nan, nan, nan, nan, 'STON/O2.', nan, nan, nan, nan, nan, nan, 'W./C.', 'PC', nan, nan, nan, nan, 'PC', nan, 'STON/O 2.', 'WE/P', 'C.A.', nan, nan, nan, nan, nan, nan, nan, nan, nan, nan, nan, nan, nan, nan, 'SOTON/O2', nan, nan, nan, nan, nan, nan, nan, nan, nan, nan, 'S.O./P.P.', nan, nan, nan, nan, nan, nan, nan, nan, nan, nan, 'W./C.', 'SOTON/O.Q.', nan, nan, nan, 'C.A.', 'PC', nan, nan, 'CA.', 'PC', nan, nan, nan, nan, nan, nan, nan, 'C.A.', nan, nan, nan, nan, nan, nan, nan, nan, nan, 'A/4', nan, nan, nan, nan, 'STON/O2.', 'S.C./PARIS', 'C', nan, nan, nan, nan, nan, nan, nan, nan, 'S.C./PARIS', nan, nan, nan, nan, nan, nan, nan, 'PC', nan, nan, nan, nan, 'SOTON/O2', 'S.O./P.P.', nan, nan, nan, 'C.A.', 'CA.', nan, nan, nan, nan, nan, nan, 'PC', nan, nan, nan, nan, nan, nan, nan, nan, nan, 'CA.', nan, nan, 'SC/PARIS', 'PC', nan, nan, nan, nan, nan, nan, 'P/PP', nan, nan, nan, nan, nan, nan, nan, nan, 'C.A./SOTON', 'SOTON/OQ', nan, nan, nan, 'W./C.', nan, nan]\n",
      "['21171', '17599', '3101282', '113803', '373450', '330877', '17463', '349909', '347742', '237736', '9549', '113783', '2151', '347082', '350406', '248706', '382652', '244373', '345763', '2649', '239865', '248698', '330923', '113788', '349909', '347077', '2631', '19950', '330959', '349216', '17601', '17569', '335677', '24579', '17604', '113789', '2677', '2152', '345764', '2651', '7546', '11668', '349253', '2123', '330958', '23567', '370371', '14311', '2662', '349237', '3101295', '39886', '17572', '2926', '113509', '19947', '31026', '2697', '34651', '2144', '2669', '113572', '36973', '347088', '17605', '2661', '29395', '3464', '3101281', '315151', '33111', '2144', '14879', '2680', '1601', '348123', '349208', '374746', '248738', '364516', '345767', '345779', '330932', '113059', '14885', '3101278', '6608', '392086', '19950', '343275', '343276', '347466', '5734', '2315', '364500', '374910', '17754', '17759', '231919', '244367', '349245', '349215', '35281', '7540', '3101276', '349207', '343120', '312991', '349249', '371110', '110465', '2665', '324669', '4136', '2627', '3101294', '370369', '11668', '17558', '347082', '14879', '54510', '237736', '27267', '35281', '2651', '370372', '17369', '2668', '347061', '349241', '3101307', '3337', '228414', '29178', '2133', '11752', '113803', '7534', '17593', '2678', '347081', '3101279', '365222', '231945', '33112', '350043', '6608', '230080', '244310', '1166', '113776', '11206', '851', '265302', '17597', '35851', '392090', '315037', '2343', '371362', '33595', '347068', '315093', '3101295', '363291', '113505', '347088', '17318', '1601', '111240', '382652', '347742', '3101280', '17764', '350404', '4133', '17595', '250653', 'LINE', '2343', '2131', '347077', '230136', '315153', '113767', '370365', '111428', '364849', '349247', '234604', '28424', '350046', '230080', '17610', '17569', '368703', '4579', '370370', '248747', '345770', '2343', '3101264', '2628', '3540', '347054', '3101278', '2699', '367231', '112277', '3101311', '13528', '21174', '250646', '367229', '35273', '3101283', '243847', '11813', '14208', '392089', '220367', '21440', '349234', '19943', '4348', '751', '21173', '236171', '4133', '36973', '347067', '237442', '347077', '29566', '6609', '26707', '31921', '28665', '1585', '2665', '367230', '14263', '3101275', '2694', '19928', '347071', '250649', '11751', '244252', '362316', '347054', '113514', '3336', '370129', '2650', '17585', '110152', '17755', '230433', '384461', '347077', '110413', '112059', '382649', '17248', '3101295', '347083', '17582', '17760', '113798', 'LINE', '250644', '17596', '370375', '13502', '347073', '239853', '382652', '2673', '336439', '347464', '345778', '10482', '113056', '349239', '345774', '349206', '237798', '370373', '19877', '11967', '2163', '349236', '349233', '17612', '2693', '113781', '19988', '17558', '9234', '367226', 'LINE', '226593', '2466', '113781', '17421', '17758', '3381', '17485', '11767', '17608', '250651', '349243', '13529', '347470', '244367', '29011', '36928', '16966', '21172', '349219', '234818', '248738', '2343', '17760', '345364', '28551', '363291', '111361', '367226', '113043', '17582', '345764', '17611', '349225', '113776', '16966', '7598', '113784', '230080', '19950', '248740', '244361', '229236', '248733', '31418', '386525', '37671', '315088', '7267', '113510', '2695', '349237', '2647', '345783', '113505', '237671', '330931', '330980', '347088', '2167', '2691', '3101310', '370365', '7076', '110813', '2626', '14313', '17477', '11765', '3101267', '323951', '17760', '349909', '17604', '7077', '113503', '2648', '347069', '17757', '2653', '3101293', '113789', '349227', '14879', '2144', '27849', '367655', '1748', '113760', '350034', '3101277', '35273', '9549', '350052', '350407', '28403', '244278', '240929', '3101289', '341826', '4137', '3101279', '315096', '28664', '347064', '29106', '312992', '4133', '349222', '394140', '19928', '239853', '3101269', '343095', '28220', '250652', '28228', '345773', '349254', '13032', '315082', '347080', '370129', '34244', '2003', '250655', '364851', '392078', '110564', '376564', '3085', '3101274', '13507', '113760', '6608', '29106', '19950', '18723', '13529', '345769', '347076', '230434', '65306', '33638', '250644', '113794', '2666', '113786', '34651', '65303', '113051', '17453', '2817', '349240', '13509', '17464', '13531', '371060', '19952', '364506', '111320', '234360', '2816', '3101306', '239853', '113792', '36209', '2666', '323592', '315089', '34651', '541', '7553', '110465', '31027', '3460', '350060', '3101298', '2144', '239854', '3594', '4134', '11967', '4133', '19943', '11771', '18509', '37671', '65304', '3101317', '113787', '17609', '45380', '2627', '36947', '6212', '113781', '350035', '315086', '364846', '330909', '4135', '110152', '17758', '26360', '111427', '4001', '1601', '382651', '3101316', '17473', '17603', '349209', '36967', '34260', '371110', '226875', '349242', '12749', '349252', '2624', '111361', '2700', '367232', '14258', '17483', '3101296', '29104', '26360', '2641', '2690', '2668', '315084', '13529', '113050', '17761', '364498', '13568', '5735', '347082', '347082', '2908', '17761', '693', '2908', '2146', '363291', '33112', '17421', '244358', '330979', '2620', '347085', '113807', '11755', '17757', '110413', '345572', '372622', '349251', '218629', '392082', '392087', '48871', '349205', '349909', '2686', '350417', '752', '11769', '17474', '14312', '20589', '358585', '243880', '13507', '2689', '3101286', '237789', '17421', '28403', '13049', '3411', '110413', '237565', '13567', '14973', '3235', '3101273', '36947', '3902', '364848', '29037', '345773', '248727', 'LINE', '2664', '17485', '243847', '349214', '113796', '364511', '111426', '349910', '349246', '113804', '2123', '17582', '347082', '3101305', '367230', '370377', '364512', '220845', '347080', '3336', '230136', '31028', '2659', '11753', '2653', '350029', '54636', '36963', '219533', '13502', '349224', '334912', '27042', '347743', '13214', '112052', '347088', '237668', '3101292', '31921', '3101295', '376564', '350050', '17477', '347088', '1601', '2666', '17572', '349231', '13213', '751', '2314', '349221', '231919', '8475', '330919', '365226', '14879', '349223', '364849', '29751', '35273', '17611', '2623', '5727', '349210', '3101285', '14879', '234686', '312993', '3536', '19996', '29750', '12750', '24580', '244270', '239856', '349912', '342826', '4138', '2144', '17755', '330935', '17572', '6563', '2144', '29750', '2123', '3101295', '349228', '350036', '24160', '17474', '349256', '1601', '2672', '113800', '248731', '363592', '35852', '17421', '348121', '17757', '17475', '2691', '36864', '350025', '250655', '223596', '17476', '113781', '2661', '17482', '113028', '19996', '7545', '250647', '348124', '17757', '34218', '36568', '347062', '248727', '350048', '12233', '250643', '113806', '315094', '31027', '36866', '236853', '3101271', '24160', '2699', '239855', '28425', '233639', '54636', '6608', '17755', '349201', '349218', '16988', '19877', '17608', '376566', '3101288', '5735', '2673', '250648', '113773', '335097', '29103', '392096', '345780', '349204', '220845', '250649', '350042', '29108', '363294', '110152', '358585', '3101272', '2663', '113760', '347074', '13502', '112379', '364850', '371110', '8471', '345781', '350047', '3', '2674', '29105', '347078', '383121', '364516', '36865', '24160', '2687', '17474', '113501', '6607', '3101312', '374887', '3101265', '382652', '2315', '17593', '12460', '239865', '2343', '17600', '349203', '28213', '17465', '349244', '2685', '345773', '250647', '31921', '113760', '2625', '347089', '347063', '112050', '347087', '248723', '113806', '3474', '48871', '28206', '347082', '364499', '112058', '3101290', '2079', '7075', '347088', '12749', '315098', '19972', '392096', '3101295', '368323', '1601', '2079', '367228', '113572', '2659', '29106', '2671', '347468', '2223', '17756', '315097', '392092', '1601', '11774', '3101287', '3', '113798', '2683', '315090', '5547', '2343', '349213', '248727', '17453', '347082', '347060', '2678', '17592', '244252', '392091', '36928', '113055', '2666', '2629', '350026', '28134', '17466', '2343', '233866', '236852', '2149', '17590', '345777', '347742', '349248', '11751', '695', '345765', '3381', '2667', '7534', '349212', '349217', '11767', '230433', '349257', '7552', '34068', '392076', '382652', '211536', '112053', '6607', '111369', '370376']\n"
     ]
    }
   ],
   "source": [
    "Pre_Ticket = []\n",
    "Post_Ticket = []\n",
    "for k in data['Ticket']:\n",
    "    prepost = k.rsplit(' ', 1)\n",
    "    if len(prepost)>1:\n",
    "        Pre_Ticket.append(prepost[0])\n",
    "        Post_Ticket.append(prepost[1])\n",
    "    else:\n",
    "        Pre_Ticket.append(np.nan)\n",
    "        Post_Ticket.append(prepost[0])\n",
    "data = data.assign(pre_ticket = Pre_Ticket)\n",
    "data = data.assign(post_ticket = Post_Ticket)"
   ]
  }
 ],
 "metadata": {
  "kernelspec": {
   "display_name": "Python 3",
   "language": "python",
   "name": "python3"
  },
  "language_info": {
   "codemirror_mode": {
    "name": "ipython",
    "version": 3
   },
   "file_extension": ".py",
   "mimetype": "text/x-python",
   "name": "python",
   "nbconvert_exporter": "python",
   "pygments_lexer": "ipython3",
   "version": "3.7.4"
  }
 },
 "nbformat": 4,
 "nbformat_minor": 2
}
